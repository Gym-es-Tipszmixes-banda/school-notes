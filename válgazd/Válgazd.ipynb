{
 "cells": [
  {
   "cell_type": "markdown",
   "metadata": {},
   "source": [
    "# Válgazd feladattípusok\n",
    "\n",
    "## Önköltségszámítás\n",
    "\n",
    "Excel táblázat mellékelve.\n",
    "\n",
    "## Fedezetszámítás"
   ]
  },
  {
   "cell_type": "code",
   "execution_count": 5,
   "metadata": {},
   "outputs": [
    {
     "name": "stdout",
     "output_type": "stream",
     "text": [
      "Jövedelem: 139639830.0\n",
      "Kritikus mennyiség: 1900.059234353428 Ellenőrzés: 16876326.11952715 == 16876326.119527146\n",
      "Kritikus egységár: 969.9466258711542 Eredeti ár: 8882\n"
     ]
    }
   ],
   "source": [
    "q = 17649 # Termékek mennyisége\n",
    "k = 271490 / q # Egy termék elkészítésének költsége\n",
    "Kf = 16847098 # Fix költség\n",
    "p = 8882 # Termék tervezett ára\n",
    "\n",
    "jövedelem = q * p - (Kf + k * q)\n",
    "print('Jövedelem: ' + str(jövedelem))\n",
    "\n",
    "# Mennyi termék kell, hogy 0 legyen a jövedelem?\n",
    "qkr = Kf / (p - k)\n",
    "print('Kritikus mennyiség: ' + str(qkr) + ' Ellenőrzés: ' + str(qkr * p) + ' == ' + str(Kf + k * qkr))\n",
    "\n",
    "# Mekkora a legalacsonyabb egységár, hogy 0 legyen a jövedelem?\n",
    "pkr = (Kf + k * q) / q\n",
    "print('Kritikus egységár: ' + str(pkr) + ' Eredeti ár: ' + str(p))"
   ]
  },
  {
   "cell_type": "markdown",
   "metadata": {},
   "source": [
    "## Értékcsökkenés\n",
    "\n",
    "Excel táblázat"
   ]
  }
 ],
 "metadata": {
  "interpreter": {
   "hash": "ef83b7bb4b5b81289f552f035272a78785cae6c162c67b40542c7322e3e4efa2"
  },
  "kernelspec": {
   "display_name": "Python 3.9.13 64-bit (windows store)",
   "language": "python",
   "name": "python3"
  },
  "language_info": {
   "codemirror_mode": {
    "name": "ipython",
    "version": 3
   },
   "file_extension": ".py",
   "mimetype": "text/x-python",
   "name": "python",
   "nbconvert_exporter": "python",
   "pygments_lexer": "ipython3",
   "version": "3.9.13"
  },
  "orig_nbformat": 4
 },
 "nbformat": 4,
 "nbformat_minor": 2
}
