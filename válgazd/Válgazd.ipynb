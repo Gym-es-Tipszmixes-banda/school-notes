{
 "cells": [
  {
   "cell_type": "markdown",
   "metadata": {},
   "source": [
    "# Válgazd feladattípusok\n",
    "\n",
    "## Önköltségszámítás\n",
    "\n",
    "Excel táblázat mellékelve.\n",
    "\n",
    "## Fedezetszámítás"
   ]
  },
  {
   "cell_type": "code",
   "execution_count": 6,
   "metadata": {},
   "outputs": [
    {
     "name": "stdout",
     "output_type": "stream",
     "text": [
      "Jövedelem: 10000000.0\n",
      "Kritikus mennyiség: 18000.0 Ellenőrzés: 450000000.0 == 450000000.0\n",
      "Kritikus egységár: 24500.0 Eredeti ár: 25000\n"
     ]
    }
   ],
   "source": [
    "q = 20000 # Termékek mennyisége\n",
    "k = 400000000 / q # Egy termék elkészítésének költsége\n",
    "Kf = 90000000 # Fix költség\n",
    "p = 25000 # Termék tervezett ára\n",
    "\n",
    "jövedelem = q * p - (Kf + k * q)\n",
    "print('Jövedelem: ' + str(jövedelem))\n",
    "\n",
    "# Mennyi termék kell, hogy 0 legyen a jövedelem?\n",
    "qkr = Kf / (p - k)\n",
    "print('Kritikus mennyiség: ' + str(qkr) + ' Ellenőrzés: ' + str(qkr * p) + ' == ' + str(Kf + k * qkr))\n",
    "\n",
    "# Mekkora a legalacsonyabb egységár, hogy 0 legyen a jövedelem?\n",
    "pkr = (Kf + k * q) / q\n",
    "print('Kritikus egységár: ' + str(pkr) + ' Eredeti ár: ' + str(p))"
   ]
  },
  {
   "cell_type": "markdown",
   "metadata": {},
   "source": [
    "## Értékcsökkenés\n",
    "\n",
    "Excel táblázat"
   ]
  }
 ],
 "metadata": {
  "interpreter": {
   "hash": "301bb4307924d03711b093435f552927a11b6039687b0cb0a8363a1600f91354"
  },
  "kernelspec": {
   "display_name": "Python 3.9.10 64-bit (windows store)",
   "language": "python",
   "name": "python3"
  },
  "language_info": {
   "codemirror_mode": {
    "name": "ipython",
    "version": 3
   },
   "file_extension": ".py",
   "mimetype": "text/x-python",
   "name": "python",
   "nbconvert_exporter": "python",
   "pygments_lexer": "ipython3",
   "version": "3.9.11"
  },
  "orig_nbformat": 4
 },
 "nbformat": 4,
 "nbformat_minor": 2
}
