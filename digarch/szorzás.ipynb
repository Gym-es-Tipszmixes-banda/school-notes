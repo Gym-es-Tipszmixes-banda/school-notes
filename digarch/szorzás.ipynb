{
 "cells": [
  {
   "cell_type": "markdown",
   "metadata": {},
   "source": [
    "# Szorzás\n",
    "\n",
    "```\n",
    "    1010 * 0111\n",
    "    ----\n",
    "    1010\n",
    "   1010|\n",
    "  1010||\n",
    "+0000|||\n",
    "--------\n",
    " 1000110 => 01000110 => 70\n",
    "```"
   ]
  },
  {
   "cell_type": "code",
   "execution_count": 37,
   "metadata": {},
   "outputs": [
    {
     "name": "stdout",
     "output_type": "stream",
     "text": [
      "000000001010\n",
      "000000010100\n",
      "000000101000\n",
      "000000000000\n",
      "1000110\n",
      "70\n"
     ]
    }
   ],
   "source": [
    "N = 4\n",
    "a = '1010'\n",
    "b = '0111'\n",
    "\n",
    "nullvalue = '0' * 4\n",
    "b = b[::-1]\n",
    "\n",
    "részeredmények = []\n",
    "\n",
    "for i in b:\n",
    "    newvalue = ('0' * (N * 2 - len(részeredmények))) + (a if i == '1' else nullvalue) + ('0' * len(részeredmények))\n",
    "    részeredmények.append(newvalue)\n",
    "    print(newvalue)\n",
    "\n",
    "answer = ''\n",
    "carry = 0\n",
    "\n",
    "for i in range(1, N * 2):\n",
    "    col = list(map(lambda x: int(x[-i]), részeredmények))\n",
    "    result = sum(col) + carry\n",
    "    carry = 0\n",
    "    if result > 1:\n",
    "        carry = 1\n",
    "        result = result - 2\n",
    "    answer = answer + str(result)\n",
    "\n",
    "print(answer[::-1])\n",
    "print(int(answer[::-1], 2))\n"
   ]
  }
 ],
 "metadata": {
  "interpreter": {
   "hash": "301bb4307924d03711b093435f552927a11b6039687b0cb0a8363a1600f91354"
  },
  "kernelspec": {
   "display_name": "Python 3.9.12 64-bit (windows store)",
   "language": "python",
   "name": "python3"
  },
  "language_info": {
   "name": "python",
   "version": "3.9.12"
  },
  "orig_nbformat": 4
 },
 "nbformat": 4,
 "nbformat_minor": 2
}
