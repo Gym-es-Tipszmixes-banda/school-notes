{
 "cells": [
  {
   "cell_type": "code",
   "execution_count": null,
   "metadata": {},
   "outputs": [],
   "source": [
    "import math"
   ]
  },
  {
   "cell_type": "markdown",
   "metadata": {},
   "source": [
    "# Szorzó áramkörök\n",
    "\n",
    "2 N bites szám szorzata 2*N biten fér el biztosan.\n",
    "\n",
    "bitek száma $x$ szám esetén: $\\top \\log_2(x) \\top$\n",
    "\n",
    "$P=A*B=A*B_4B_3B_2B_1B_0$\n",
    "\n",
    "## Tárolók\n",
    "\n",
    "Flip-flop, S-R, J-K (D-(C), Toggle), D-G\n",
    "\n",
    "## Shift&Add módszer\n",
    "\n",
    "| Ai | Bj | Ai * Bj |\n",
    "| -- | -- | ------- |\n",
    "| 0  | 0  | 0       |\n",
    "| 0  | 1  | 0       |\n",
    "| 1  | 0  | 0       |\n",
    "| 1  | 1  | 1       |\n",
    "\n",
    "## Booth-algoritmus (előjeles, kettes komplemens)\n",
    "\n",
    "1. B kettes komplements\n",
    "2. trükk: szorzók felírása egy kivonásként `16` -> `32-16`\n",
    "3. összevonás **számok** alapján\n"
   ]
  },
  {
   "cell_type": "markdown",
   "metadata": {},
   "source": [
    "\n",
    "## Közvetlen \"szorzási\" módszerek\n",
    "\n",
    "Feltételezzük, hogy parciális szorzatok kész vannak.\n",
    "\n",
    "### Lineáris modell\n",
    "\n",
    "((1.sor + 2.sor) + 3.sor) + 4.sor ...\n",
    "\n",
    "N - 1 összeadás\n",
    "\n",
    "$🕑 = N * T_{adder}$\n",
    "\n",
    "### Bináris fa modell\n",
    "\n",
    "0+1,2+3,4+5,6+7\n",
    "   \\+/   \\+/\n",
    "      \\+/\n",
    "\n",
    "log_2(N) * T\n",
    "\n",
    "\n",
    "### Full adder-es\n"
   ]
  },
  {
   "cell_type": "code",
   "execution_count": null,
   "metadata": {},
   "outputs": [],
   "source": []
  }
 ],
 "metadata": {
  "interpreter": {
   "hash": "301bb4307924d03711b093435f552927a11b6039687b0cb0a8363a1600f91354"
  },
  "kernelspec": {
   "display_name": "Python 3.9.11 64-bit (windows store)",
   "language": "python",
   "name": "python3"
  },
  "language_info": {
   "codemirror_mode": {
    "name": "ipython",
    "version": 3
   },
   "file_extension": ".py",
   "mimetype": "text/x-python",
   "name": "python",
   "nbconvert_exporter": "python",
   "pygments_lexer": "ipython3",
   "version": "3.9.11"
  },
  "orig_nbformat": 4
 },
 "nbformat": 4,
 "nbformat_minor": 2
}
